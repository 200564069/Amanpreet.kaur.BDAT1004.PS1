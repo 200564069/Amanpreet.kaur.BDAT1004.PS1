{
 "cells": [
  {
   "cell_type": "markdown",
   "id": "dc30ffe4-a026-41ff-8e80-08f22ee8821f",
   "metadata": {},
   "source": [
    "|data                                |data type                                                   |\n",
    "|:---------------------------        |--------------------------------:                           |\n",
    "|5                                   |integer                                                     |\n",
    "|5.0                                 |float                                                       |\n",
    "|5>1                                 |boolean                                                     |\n",
    "|'5'                                 |string                                                      |\n",
    "|5*2=10                              |integer                                                     |\n",
    "|'5'*2 ='55'                         |string                                                      |\n",
    "|'5'+'2'='52'                        |string                                                      |\n",
    "|5/2=2.5                             |float                                                       |\n",
    "|5%2=1                               |integer                                                     |\n",
    "|{5,2,1}                             |set                                                         |\n",
    "|5==3=false                          |boolean                                                     |\n",
    "|Pi                                  |float                                                       |"
   ]
  },
  {
   "cell_type": "markdown",
   "id": "72853ab0-b8d4-4bf7-b4a3-b853fb6fb5a4",
   "metadata": {},
   "source": [
    "Question 2 Write (and evaluate) python expressions that answer these questions:g?"
   ]
  },
  {
   "cell_type": "markdown",
   "id": "65d3d168-8dd0-434a-9895-eb118841c9b4",
   "metadata": {},
   "source": [
    "\n",
    "a. How many letters are there in 'Supercalifragilisticexpialidociousg?"
   ]
  },
  {
   "cell_type": "code",
   "execution_count": 29,
   "id": "948d45c7-54b5-4ee8-84fe-048876927c9f",
   "metadata": {},
   "outputs": [
    {
     "name": "stdout",
     "output_type": "stream",
     "text": [
      "34\n"
     ]
    }
   ],
   "source": [
    "str ='Supercalifragilisticexpialidocious'\n",
    "print(len(str))"
   ]
  },
  {
   "cell_type": "code",
   "execution_count": null,
   "id": "65e73463-54be-45c3-b16e-f7dacd105be7",
   "metadata": {},
   "outputs": [],
   "source": [
    "b. Does 'Supercalifragilisticexpialidocious' contain 'ice' as a substring?"
   ]
  },
  {
   "cell_type": "code",
   "execution_count": 28,
   "id": "064846aa-166f-4512-9ce2-97d7de606002",
   "metadata": {},
   "outputs": [
    {
     "name": "stdout",
     "output_type": "stream",
     "text": [
      "Yes its there\n"
     ]
    }
   ],
   "source": [
    "str='Supercalifragilisticexpialidocious'\n",
    "if 'ice' in str:\n",
    "      print(\"Yes its there\")\n",
    "else:\n",
    "      print(\"No its not there\")"
   ]
  },
  {
   "cell_type": "code",
   "execution_count": null,
   "id": "82ee41bd-3be5-42d6-aa64-a4a1cc755b72",
   "metadata": {},
   "outputs": [],
   "source": [
    "c. Which of the following words is the longest: \n",
    "Supercalifragilisticexpialidocious, Honorificabilitudinitatibus, or \n",
    "Bababadalgharaghtakamminarronnkonn"
   ]
  },
  {
   "cell_type": "code",
   "execution_count": 27,
   "id": "a62e8319-5e8b-4073-a1de-f892d92cfd91",
   "metadata": {},
   "outputs": [
    {
     "name": "stdout",
     "output_type": "stream",
     "text": [
      "The longest is: Bababadalgharaghtakamminarronnkonn\n"
     ]
    }
   ],
   "source": [
    "a=\"Supercalifragilisticexpialidocious\"\n",
    "b=\"Honorificabilitudinitatibus\"\n",
    "c=\"Bababadalgharaghtakamminarronnkonn\"\n",
    "if len(a)>len(b):\n",
    "  longest = a\n",
    "else:\n",
    "  longest = b\n",
    "if len(longest)>len(c):\n",
    "  result = longest\n",
    "else:\n",
    "  result = c\n",
    "print(f\"The longest is: {result}\")\n"
   ]
  },
  {
   "cell_type": "code",
   "execution_count": null,
   "id": "4b57596f-1e4a-4b3c-b52f-2a6d7aa55bd6",
   "metadata": {},
   "outputs": [],
   "source": [
    "d. Which composer comes first in the dictionary: 'Berlioz', 'Borodin', 'Brian', \n",
    "'Bartok', 'Bellini', 'Buxtehude', 'Bernstein'. Which one comes last?"
   ]
  },
  {
   "cell_type": "code",
   "execution_count": 26,
   "id": "2469b4dd-996d-440f-b7be-bc69a3b171f8",
   "metadata": {},
   "outputs": [
    {
     "name": "stdout",
     "output_type": "stream",
     "text": [
      "First composer: Bartok\n",
      "Last composer: Buxtehude\n"
     ]
    }
   ],
   "source": [
    "composers = ['Berlioz', 'Borodin', 'Brian', 'Bartok', 'Bellini', 'Buxtehude', 'Bernstein']\n",
    "first = min(composers)\n",
    "last = max(composers)\n",
    "print(\"First composer:\", first)\n",
    "print(\"Last composer:\", last)\n",
    "\n"
   ]
  },
  {
   "cell_type": "markdown",
   "id": "67b8a0e6-a909-4434-b9a5-b079d467cdc5",
   "metadata": {},
   "source": [
    "Question 3.\n",
    "Implement function triangleArea(a,b,c) that takes as input the lengths of the 3\r\n",
    "sides of a triangle and returns the area of the triangle. By Heron's formula, the area \r\n",
    "of a triangle with side lengths a, b, and c is\r\n",
    "s(s - a)(s -b)(s -c)\r\n",
    ", where \r\n",
    "s = (a+b+c)/2. \r\n",
    ">>> triangleArea(2,2,2)\r\n",
    "1.7320508075arrays. G"
   ]
  },
  {
   "cell_type": "code",
   "execution_count": 25,
   "id": "34edfae9-b007-4cb3-8a11-beba67928ecd",
   "metadata": {},
   "outputs": [
    {
     "name": "stdout",
     "output_type": "stream",
     "text": [
      "1.7320508075688772\n"
     ]
    }
   ],
   "source": [
    "import math\n",
    "def TriangleArea(a, b, c):\n",
    "\n",
    "  s = (a + b + c) / 2\n",
    "  area = math.sqrt(s * (s - a) * (s - b) * (s - c))\n",
    "    \n",
    "  return area\n",
    "print(TriangleArea(2, 2, 2))"
   ]
  },
  {
   "cell_type": "markdown",
   "id": "baa5d830-9cc8-4972-946e-97ca7826a6ea",
   "metadata": {},
   "source": [
    "Question 4.\n",
    "Write a program in python to separate odd and even integers in separate arrays. Go \n",
    "to the editor\n",
    "Test Data :\n",
    "Input the number of elements to be stored in the array :5\n",
    "Input 5 elements in the array :\n",
    "element - 0 : 25\n",
    "element - 1 : 47\n",
    "element - 2 : 42\n",
    "element - 3 : 56\n",
    "element - 4 : 32\n",
    "Expected Output:\n",
    "The Even elements are:\n",
    "42 56 32\n",
    "The Odd elements are :\n",
    "25 47\n"
   ]
  },
  {
   "cell_type": "code",
   "execution_count": 24,
   "id": "706efc18-468f-42cb-9a67-a448261c56cd",
   "metadata": {},
   "outputs": [
    {
     "name": "stdin",
     "output_type": "stream",
     "text": [
      "Input the number of elements to be stored in the array:  5\n",
      "element - 0 :  22\n",
      "element - 1 :  78\n",
      "element - 2 :  89\n",
      "element - 3 :  90\n",
      "element - 4 :  34\n"
     ]
    },
    {
     "name": "stdout",
     "output_type": "stream",
     "text": [
      "The Even elements are:\n",
      "[22, 78, 90, 34]\n",
      "\n",
      "The Odd elements are:\n",
      "[89]\n"
     ]
    }
   ],
   "source": [
    "# def separate_even_and_odd(numbers):\n",
    "\n",
    "#   even = []\n",
    "#   odd = []\n",
    "#   for num in numbers:\n",
    "#     if num % 2 == 0:\n",
    "#       even.append(num)\n",
    "#     else:\n",
    "#       odd.append(num)\n",
    "#   return even, odd\n",
    "\n",
    "# # Get user input for the number of elements\n",
    "# numbers=int(input(\"Enter the number of elements to be stored in the array: \"))\n",
    "\n",
    "# # Get user input for the elements\n",
    "# numbers = []\n",
    "# for i in range(numbers):\n",
    "#   element = int(input(f\"Input element - {i}: \"))\n",
    "#   numbers.append(element)\n",
    "\n",
    "# # Separate even and odd numbers\n",
    "# even, odd = separate_even_and_odd(numbers)\n",
    "\n",
    "# # Print the results\n",
    "# print(\"The Even elements are:\", even)\n",
    "# print(\"The Odd elements are :\", odd)\n",
    "# Get the number of elements from the user\n",
    "n = int(input(\"Input the number of elements to be stored in the array: \"))\n",
    "\n",
    "# Initialize empty lists to store even and odd numbers\n",
    "even_nums = []\n",
    "odd_nums = []\n",
    "\n",
    "# Get the elements from the user\n",
    "for i in range(n):\n",
    "    num = int(input(f\"element - {i} : \"))\n",
    "    \n",
    "    # Check if the number is even or odd\n",
    "    if num % 2 == 0:\n",
    "        even_nums.append(num)\n",
    "    else:\n",
    "        odd_nums.append(num)\n",
    "\n",
    "# Print the even and odd numbers\n",
    "print(\"The Even elements are:\")\n",
    "print(even_nums)\n",
    "\n",
    "print(\"\\nThe Odd elements are:\")\n",
    "print(odd_nums)\n"
   ]
  },
  {
   "cell_type": "markdown",
   "id": "5b8b3557-a102-456f-812b-fbf86fc3b0bb",
   "metadata": {},
   "source": [
    "Question 5.\n",
    "a. Write a function inside(x,y,x1,y1,x2,y2) that returns True or False \n",
    "depending on whether the point (x,y) lies in the rectangle with lower left \n",
    "corner (x1,y1) and upper right corner (x2,y2).\n",
    ">>> inside(1,1,0,0,2,3)\n",
    "True\n",
    ">>> inside(-1,-1,0,0,2,3)\n",
    "False\n"
   ]
  },
  {
   "cell_type": "code",
   "execution_count": 22,
   "id": "e0fae704-84e4-4a9f-9369-03666152a71a",
   "metadata": {},
   "outputs": [
    {
     "name": "stdout",
     "output_type": "stream",
     "text": [
      "True\n",
      "False\n"
     ]
    }
   ],
   "source": [
    "def inside(x, y, x1, y1, x2, y2):\n",
    "    if x1 <= x <= x2 and y1 <= y <= y2:\n",
    "        return True\n",
    "    else:\n",
    "        return False\n",
    "        #for instance\n",
    "print(inside(1,1,0,0,2,3))  # True\n",
    "print(inside(-1,-1,0,0,2,3))  # False"
   ]
  },
  {
   "cell_type": "markdown",
   "id": "a7033b1d-0922-4a8f-812b-07fcfd0e6f15",
   "metadata": {},
   "source": [
    "b. Use function inside() from part a. to write an expression that tests whether \n",
    "the point (1,1) lies in both of the following rectangles: one with lower left \n",
    "corner (0.3, 0.5) and upper right corner (1.1, 0.7) and the other with lower \n",
    "left corner (0.5, 0.2) and upper right corner (1.1, 2). "
   ]
  },
  {
   "cell_type": "code",
   "execution_count": 21,
   "id": "30599faa-13f8-42e0-872e-aac8b4a91d09",
   "metadata": {},
   "outputs": [
    {
     "name": "stdout",
     "output_type": "stream",
     "text": [
      "False\n"
     ]
    }
   ],
   "source": [
    "rectanglea = (0.3, 0.5, 1.1, 0.7)\n",
    "rectangleb = (0.5, 0.2, 1.1, 2)\n",
    "\n",
    "point_in_both_rectangles = inside(1, 1, *rectanglea) and inside(1, 1, *rectangleb)\n",
    "print(point_in_both_rectangles)  # False"
   ]
  },
  {
   "cell_type": "markdown",
   "id": "8c6c450c-79b3-438b-9990-9e51badde13e",
   "metadata": {},
   "source": [
    "Question 6. You can turn a word into pig-Latin using the following two rules (simplified):\n",
    "• If the word starts with a consonant, move that letter to the end and append \n",
    "'ay'. For example, 'happy' becomes 'appyhay' and 'pencil' becomes 'encilpay'.\n",
    "• If the word starts with a vowel, simply append 'way' to the end of the word. \n",
    "For example, 'enter' becomes 'enterway' and 'other' becomes 'otherway' . For \n",
    "our purposes, there are 5 vowels: a, e, i, o, u (so we count y as a consonant).\n",
    "Write a function pig() that takes a word (i.e., a string) as input and returns its pig\u0002Latin form. Your function should still work if the input word contains upper case \n",
    "characters. Your output should always be lower case however. \n",
    ">>> pig('happy')\n",
    "'appyhay'\n",
    ">>> pig('Enter')\n",
    "'enterway' "
   ]
  },
  {
   "cell_type": "code",
   "execution_count": 15,
   "id": "7828eea3-89ce-4f46-99d5-d7a60901dcc1",
   "metadata": {},
   "outputs": [
    {
     "name": "stdout",
     "output_type": "stream",
     "text": [
      "appyhay\n",
      "enterway\n"
     ]
    }
   ],
   "source": [
    "def pig_latin(word):\n",
    "\n",
    "  vowels = 'aeiou'\n",
    "  if word.lower()[0] in vowels:\n",
    "    return word.lower() + 'way'\n",
    "  else:\n",
    "    consonant = word[0].lower()\n",
    "    restofword = word[1:].lower()\n",
    "    return restofword + consonant + 'ay'\n",
    "\n",
    "# examples\n",
    "print(pig_latin('Happy'))  # Results: appyhay\n",
    "print(pig_latin('Enter'))  # Results: enterway\n"
   ]
  },
  {
   "cell_type": "markdown",
   "id": "6e6b0043-6640-4cc3-a017-ddd9acd7901e",
   "metadata": {},
   "source": [
    "Question 7: File bloodtype1.txt records blood-types of patients (A, B, AB, O or OO) at a clinic. \n",
    "Write a function bldcount() that reads the file with name name and reports (i.e., \n",
    "prints) how many patients there are in each bloodtype.\n",
    ">>> bldcount('bloodtype.txt')\n",
    "There are 10 patients of blood type A.\n",
    "There is one patient of blood type B.\n",
    "There are 10 patients of blood type AB.\n",
    "There are 12 patients of blood type O.\n",
    "There are no patients of blood type OO.\n"
   ]
  },
  {
   "cell_type": "code",
   "execution_count": 14,
   "id": "ea460e02-50f3-452d-a019-572bbc9e90ca",
   "metadata": {},
   "outputs": [
    {
     "name": "stdout",
     "output_type": "stream",
     "text": [
      "There are 0 patients of blood type OO\n",
      "There are 15 patients of blood type O\n",
      "There are 1 patients of blood type B\n",
      "There are 15 patients of blood type A\n",
      "There are 13 patients of blood type AB\n"
     ]
    }
   ],
   "source": [
    "def bldcount(file_name):\n",
    "    \n",
    "    with open(file_name, 'r') as file:\n",
    "        AB_blood_counter = 0\n",
    "        B_blood_counter= 0\n",
    "        O_blood_counter= 0\n",
    "        A_blood_counter = 0\n",
    "        OO_blood_counter= 0\n",
    "        for line in file:\n",
    "            for bloodgroup in line.split():\n",
    "                if bloodgroup == \"AB\":\n",
    "                    AB_blood_counter += 1\n",
    "                if bloodgroup == \"B\":\n",
    "                    B_blood_counter += 1\n",
    "                if bloodgroup == \"O\": \n",
    "                    O_blood_counter+= 1\n",
    "                if bloodgroup == \"A\":\n",
    "                    A_blood_counter += 1\n",
    "                if bloodgroup == \"OO\":\n",
    "                    OO_blood_counter += 1\n",
    "                    \n",
    "\n",
    "        print(\"There are \" + str(OO_blood_counter) +  \" patients of blood type OO\")\n",
    "        print(\"There are \" + str(O_blood_counter) +  \" patients of blood type O\")\n",
    "        print(\"There are \" + str(B_blood_counter) +  \" patients of blood type B\")\n",
    "        print(\"There are \" + str(A_blood_counter) +  \" patients of blood type A\")\n",
    "        print(\"There are \" + str(AB_blood_counter) +  \" patients of blood type AB\")\n",
    "        \n",
    "        \n",
    "\\\n",
    "        file.close()\n",
    "            \n",
    "file_name = \"bloodtype1.txt\"\n",
    "bldcount(file_name)"
   ]
  },
  {
   "cell_type": "markdown",
   "id": "951fd9c4-56d4-423d-a039-d2c7d79690ed",
   "metadata": {},
   "source": [
    "QUestion 8. Write a function curconv() that takes as input:\r\n",
    "1. a currency represented using a string (e.g., 'JPY' for the Japanese Yen or \r\n",
    "'EUR' for the Euro)\r\n",
    "2. an amount\r\n",
    "and then converts and returns the amount in US dollars.\r\n",
    ">>> curconv('EUR', 100)\r\n",
    "122.96544\r\n",
    ">>> curconv('JPY', 100)\r\n",
    "1.241401\r\n",
    "The currency rates you will need are stored in file curren\n",
    ">>> AUD 1.0345157 Australian Dollar\r\n",
    "CHF 1.0237414 Swiss Franc\r\n",
    "CNY 0.1550176 Chinese YuDKK 0.1651442 Danish Krone\r\n",
    "EUR 1.2296544 Euro\r\n",
    "GBP 1.5550989 British Pound\r\n",
    "HKD 0.1270207 Hong Kong Dollar\r\n",
    "INR 0.0177643 Indian Rupee\r\n",
    "JPY 0.01241401 Japanese Yen\r\n",
    "MXN 0.0751848 Mexican Peso\r\n",
    "MYR 0.3145411 Malaysian Ringgit\r\n",
    "NOK 0.1677063 Norwegian Krone\r\n",
    "NZD 0.8003591 New Zealand Dollar\r\n",
    "PHP 0.0233234 Philippine Peso\r\n",
    "SEK 0.148269 Swedish Krona\r\n",
    "SGD 0.788871 Singapore Dollar\r\n",
    "THB 0.0313n exception (ananancies.txt:\r\n"
   ]
  },
  {
   "cell_type": "code",
   "execution_count": 13,
   "id": "bd8ddc4b-dee2-4b1a-88ca-a9055ebb96d6",
   "metadata": {
    "scrolled": true
   },
   "outputs": [
    {
     "name": "stdout",
     "output_type": "stream",
     "text": [
      "122.96544\n",
      "1.241401\n"
     ]
    }
   ],
   "source": [
    "def curconv(currency, amount):\n",
    "    transfer_rates = {}\n",
    "    with open(\"currencies.txt\", \"r\") as file:\n",
    "        lines = file.readlines()\n",
    "        for line in lines:\n",
    "            parts = line.split()\n",
    "            if parts[0] == currency:\n",
    "                transfer_rates[parts[0]] = float(parts[1])\n",
    "                return amount * transfer_rates[currency]\n",
    "        return \"Currency not found\"\n",
    "\n",
    "#Instance used\n",
    "print(curconv('EUR', 100))  # Output: 122.96544\n",
    "print(curconv('JPY', 100))  # Output: 1.241401"
   ]
  },
  {
   "cell_type": "markdown",
   "id": "2b310d69-2447-441b-8ce0-ad1704b6b23f",
   "metadata": {},
   "source": [
    "Question 9. Each of the following will cause an exception (an error). Identify what type of \n",
    "exception each will cause.\n",
    "\n"
   ]
  },
  {
   "cell_type": "markdown",
   "id": "1d5f52b7-27d9-4014-9c17-8ccbd7db242c",
   "metadata": {},
   "source": [
    "1. Trying to add incompatible variables, as in \n",
    "adding 6 + ‘a’"
   ]
  },
  {
   "cell_type": "code",
   "execution_count": 5,
   "id": "fbc7c606-fe30-427c-ad55-7091da8ef0d3",
   "metadata": {},
   "outputs": [
    {
     "ename": "TypeError",
     "evalue": "unsupported operand type(s) for +: 'int' and 'str'",
     "output_type": "error",
     "traceback": [
      "\u001b[1;31m---------------------------------------------------------------------------\u001b[0m",
      "\u001b[1;31mTypeError\u001b[0m                                 Traceback (most recent call last)",
      "Cell \u001b[1;32mIn[5], line 1\u001b[0m\n\u001b[1;32m----> 1\u001b[0m \u001b[38;5;241m6\u001b[39m\u001b[38;5;241m+\u001b[39m\u001b[38;5;124m'\u001b[39m\u001b[38;5;124ma\u001b[39m\u001b[38;5;124m'\u001b[39m\n",
      "\u001b[1;31mTypeError\u001b[0m: unsupported operand type(s) for +: 'int' and 'str'"
     ]
    }
   ],
   "source": [
    "6+'a'"
   ]
  },
  {
   "cell_type": "code",
   "execution_count": null,
   "id": "e0999f13-e540-4234-acb9-238916847af1",
   "metadata": {},
   "outputs": [],
   "source": [
    "2.  Referring to the 12th item of a list that has only 10 \n",
    "items"
   ]
  },
  {
   "cell_type": "code",
   "execution_count": 7,
   "id": "b450fb25-a823-49fe-bac9-fe33b8b17a3f",
   "metadata": {},
   "outputs": [
    {
     "ename": "IndexError",
     "evalue": "list index out of range",
     "output_type": "error",
     "traceback": [
      "\u001b[1;31m---------------------------------------------------------------------------\u001b[0m",
      "\u001b[1;31mIndexError\u001b[0m                                Traceback (most recent call last)",
      "Cell \u001b[1;32mIn[7], line 2\u001b[0m\n\u001b[0;32m      1\u001b[0m \u001b[38;5;28mlist\u001b[39m \u001b[38;5;241m=\u001b[39m [\u001b[38;5;124m'\u001b[39m\u001b[38;5;124m0\u001b[39m\u001b[38;5;124m'\u001b[39m,\u001b[38;5;124m'\u001b[39m\u001b[38;5;124m1\u001b[39m\u001b[38;5;124m'\u001b[39m,\u001b[38;5;124m'\u001b[39m\u001b[38;5;124m2\u001b[39m\u001b[38;5;124m'\u001b[39m,\u001b[38;5;124m'\u001b[39m\u001b[38;5;124m3\u001b[39m\u001b[38;5;124m'\u001b[39m,\u001b[38;5;124m'\u001b[39m\u001b[38;5;124m4\u001b[39m\u001b[38;5;124m'\u001b[39m,\u001b[38;5;124m'\u001b[39m\u001b[38;5;124m5\u001b[39m\u001b[38;5;124m'\u001b[39m,\u001b[38;5;124m'\u001b[39m\u001b[38;5;124m6\u001b[39m\u001b[38;5;124m'\u001b[39m,\u001b[38;5;124m'\u001b[39m\u001b[38;5;124m7\u001b[39m\u001b[38;5;124m'\u001b[39m,\u001b[38;5;124m'\u001b[39m\u001b[38;5;124m8\u001b[39m\u001b[38;5;124m'\u001b[39m,\u001b[38;5;124m'\u001b[39m\u001b[38;5;124m9\u001b[39m\u001b[38;5;124m'\u001b[39m,\u001b[38;5;124m'\u001b[39m\u001b[38;5;124m10\u001b[39m\u001b[38;5;124m'\u001b[39m]\n\u001b[1;32m----> 2\u001b[0m \u001b[38;5;28mprint\u001b[39m(\u001b[38;5;28mlist\u001b[39m[\u001b[38;5;241m11\u001b[39m])\n",
      "\u001b[1;31mIndexError\u001b[0m: list index out of range"
     ]
    }
   ],
   "source": [
    "list = ['0','1','2','3','4','5','6','7','8','9','10']\n",
    "print(list[11])\n",
    "IndexError: list index out of rang"
   ]
  },
  {
   "cell_type": "code",
   "execution_count": null,
   "id": "6eb4d855-1370-48fd-9836-ec5387daf760",
   "metadata": {},
   "outputs": [],
   "source": [
    "3. Using a value that is out of range for a function’s \n",
    "input, such as calling math.sqrt(-1.0)\n",
    "TypeError: math.sqrt() takes exactly one argument (2 given)                                \n"
   ]
  },
  {
   "cell_type": "code",
   "execution_count": 8,
   "id": "fcfca384-056f-4f5d-a261-056253f182e4",
   "metadata": {},
   "outputs": [
    {
     "ename": "TypeError",
     "evalue": "math.sqrt() takes exactly one argument (2 given)",
     "output_type": "error",
     "traceback": [
      "\u001b[1;31m---------------------------------------------------------------------------\u001b[0m",
      "\u001b[1;31mTypeError\u001b[0m                                 Traceback (most recent call last)",
      "Cell \u001b[1;32mIn[8], line 2\u001b[0m\n\u001b[0;32m      1\u001b[0m \u001b[38;5;28;01mimport\u001b[39;00m \u001b[38;5;21;01mmath\u001b[39;00m \n\u001b[1;32m----> 2\u001b[0m square_root \u001b[38;5;241m=\u001b[39m math\u001b[38;5;241m.\u001b[39msqrt(\u001b[38;5;241m1.0\u001b[39m , \u001b[38;5;241m1.2\u001b[39m)\n\u001b[0;32m      3\u001b[0m \u001b[38;5;28mprint\u001b[39m(square_root)\n",
      "\u001b[1;31mTypeError\u001b[0m: math.sqrt() takes exactly one argument (2 given)"
     ]
    }
   ],
   "source": [
    "import math \n",
    "square_root = math.sqrt(1.0 , 1.2)\n",
    "print(square_root)"
   ]
  },
  {
   "cell_type": "code",
   "execution_count": null,
   "id": "45912181-6634-4a2e-a9cf-b9a3f90cbc76",
   "metadata": {},
   "outputs": [],
   "source": [
    "4. Using an undeclared variable, such as print(x)\n",
    "when x has not been defined"
   ]
  },
  {
   "cell_type": "code",
   "execution_count": 9,
   "id": "150974d9-9de2-4f5a-a2be-8c8a9422c1e6",
   "metadata": {},
   "outputs": [
    {
     "ename": "NameError",
     "evalue": "name 'x' is not defined",
     "output_type": "error",
     "traceback": [
      "\u001b[1;31m---------------------------------------------------------------------------\u001b[0m",
      "\u001b[1;31mNameError\u001b[0m                                 Traceback (most recent call last)",
      "Cell \u001b[1;32mIn[9], line 1\u001b[0m\n\u001b[1;32m----> 1\u001b[0m \u001b[38;5;28mprint\u001b[39m(x)\n",
      "\u001b[1;31mNameError\u001b[0m: name 'x' is not defined"
     ]
    }
   ],
   "source": [
    "print(x)\n",
    "NameError: name 'x' is not defined"
   ]
  },
  {
   "cell_type": "code",
   "execution_count": null,
   "id": "ecc7ecce-8846-493a-822f-631d8955a2f6",
   "metadata": {},
   "outputs": [],
   "source": [
    "5.Trying to open a file that does not exist, such as \n",
    "mistyping the file name or looking in the wrong \n",
    "directory. "
   ]
  },
  {
   "cell_type": "code",
   "execution_count": 10,
   "id": "26c196c1-7ff5-4e53-be6d-7493821ae67e",
   "metadata": {},
   "outputs": [
    {
     "ename": "FileNotFoundError",
     "evalue": "[Errno 2] No such file or directory: 'Chapter1.txt'",
     "output_type": "error",
     "traceback": [
      "\u001b[1;31m---------------------------------------------------------------------------\u001b[0m",
      "\u001b[1;31mFileNotFoundError\u001b[0m                         Traceback (most recent call last)",
      "Cell \u001b[1;32mIn[10], line 2\u001b[0m\n\u001b[0;32m      1\u001b[0m file_name \u001b[38;5;241m=\u001b[39m \u001b[38;5;124m\"\u001b[39m\u001b[38;5;124mChapter1.txt\u001b[39m\u001b[38;5;124m\"\u001b[39m\n\u001b[1;32m----> 2\u001b[0m f \u001b[38;5;241m=\u001b[39m \u001b[38;5;28mopen\u001b[39m(file_name , \u001b[38;5;124m'\u001b[39m\u001b[38;5;124mr\u001b[39m\u001b[38;5;124m'\u001b[39m)\n\u001b[0;32m      3\u001b[0m \u001b[38;5;28mprint\u001b[39m(f\u001b[38;5;241m.\u001b[39mread())\n",
      "File \u001b[1;32m~\\anaconda3\\Lib\\site-packages\\IPython\\core\\interactiveshell.py:310\u001b[0m, in \u001b[0;36m_modified_open\u001b[1;34m(file, *args, **kwargs)\u001b[0m\n\u001b[0;32m    303\u001b[0m \u001b[38;5;28;01mif\u001b[39;00m file \u001b[38;5;129;01min\u001b[39;00m {\u001b[38;5;241m0\u001b[39m, \u001b[38;5;241m1\u001b[39m, \u001b[38;5;241m2\u001b[39m}:\n\u001b[0;32m    304\u001b[0m     \u001b[38;5;28;01mraise\u001b[39;00m \u001b[38;5;167;01mValueError\u001b[39;00m(\n\u001b[0;32m    305\u001b[0m         \u001b[38;5;124mf\u001b[39m\u001b[38;5;124m\"\u001b[39m\u001b[38;5;124mIPython won\u001b[39m\u001b[38;5;124m'\u001b[39m\u001b[38;5;124mt let you open fd=\u001b[39m\u001b[38;5;132;01m{\u001b[39;00mfile\u001b[38;5;132;01m}\u001b[39;00m\u001b[38;5;124m by default \u001b[39m\u001b[38;5;124m\"\u001b[39m\n\u001b[0;32m    306\u001b[0m         \u001b[38;5;124m\"\u001b[39m\u001b[38;5;124mas it is likely to crash IPython. If you know what you are doing, \u001b[39m\u001b[38;5;124m\"\u001b[39m\n\u001b[0;32m    307\u001b[0m         \u001b[38;5;124m\"\u001b[39m\u001b[38;5;124myou can use builtins\u001b[39m\u001b[38;5;124m'\u001b[39m\u001b[38;5;124m open.\u001b[39m\u001b[38;5;124m\"\u001b[39m\n\u001b[0;32m    308\u001b[0m     )\n\u001b[1;32m--> 310\u001b[0m \u001b[38;5;28;01mreturn\u001b[39;00m io_open(file, \u001b[38;5;241m*\u001b[39margs, \u001b[38;5;241m*\u001b[39m\u001b[38;5;241m*\u001b[39mkwargs)\n",
      "\u001b[1;31mFileNotFoundError\u001b[0m: [Errno 2] No such file or directory: 'Chapter1.txt'"
     ]
    }
   ],
   "source": [
    "file_name = \"Chapter1.txt\"\n",
    "f = open(file_name , 'r')\n",
    "print(f.read())\n",
    "FileNotFoundError: [Errno 2] No such file or directory: 'Chapter1.txt'"
   ]
  },
  {
   "cell_type": "markdown",
   "id": "b6405a13-c072-43f4-804c-d8c4a039d8e7",
   "metadata": {},
   "source": [
    "Question 10.\n",
    "Encryption is the process of hiding the meaning of a text by substituting letters in the \n",
    "message with other letters, according to some system. If the process is successful, no \n",
    "one but the intended recipient can understand the encrypted message. Cryptanalysis\n",
    "refers to attempts to undo the encryption, even if some details of the encryption are \n",
    "unknown (for example, if an encrypted message has been intercepted). The first step \n",
    "of cryptanalysis is often to build up a table of letter frequencies in the encrypted text. \n",
    "Assume that the string letters is already defined as \n",
    "'abcdefghijklmnopqrstuvwxyz'. Write a function called frequencies()\n",
    "that takes a string as its only parameter, and returns a list of integers, showing the \n",
    "number of times each character appears in the text. Your function may ignore any \n",
    "characters that are not in letters. \n",
    ">>> frequencies('The quick red fox got bored and went home.')\n",
    "[1, 1, 1, 3, 5, 1, 1, 2, 1, 0, 1, 0, 1, 2, 4, 0, 1, 2, 0, 2, \n",
    "1, 0, 1, 1, 0, 0]\n",
    ">>> frequencies('apple')"
   ]
  },
  {
   "cell_type": "code",
   "execution_count": 30,
   "id": "8c41126b-5fa6-4f7b-8e56-df1a401c3c98",
   "metadata": {},
   "outputs": [
    {
     "name": "stdout",
     "output_type": "stream",
     "text": [
      "[1, 1, 1, 3, 5, 1, 1, 2, 1, 0, 1, 0, 1, 2, 4, 0, 1, 2, 0, 3, 1, 0, 1, 1, 0, 0]\n",
      "[1, 0, 0, 0, 1, 0, 0, 0, 0, 0, 0, 1, 0, 0, 0, 2, 0, 0, 0, 0, 0, 0, 0, 0, 0, 0]\n"
     ]
    }
   ],
   "source": [
    "def frequencies(text):\n",
    "    alphabets = 'abcdefghijklmnopqrstuvwxyz'\n",
    "    \n",
    "    freq_dict = {letter: 0 for letter in alphabets}\n",
    "    \n",
    "    text = text.lower()\n",
    "    for char in text:\n",
    "        if char in alphabets:\n",
    "    \n",
    "            freq_dict[char] += 1\n",
    "    \n",
    "    freq_list = [freq_dict[letter] for letter in alphabets]\n",
    "    \n",
    "    return freq_list\n",
    "\n",
    "# Test cases\n",
    "print(frequencies('The quick red fox got bored and went home.'))  # Output: [1, 1, 1, 3, 5, 1, 1, 2, 1, 0, 1, 0, 1, 2, 4, 0, 1, 2, 0, 2, 1, 0, 1, 1, 0, 0]\n",
    "print(frequencies('apple'))  # Output: [1, 0, 0, 0, 1, 0, 0, 0, 0, 0, 0, 1, 0, 0, 0, 2, 0, 0, 0, 0, 0, 0, 0, 0, 0, 0]\n"
   ]
  },
  {
   "cell_type": "code",
   "execution_count": null,
   "id": "4760cc11-b20c-4296-ae38-d79abdc05381",
   "metadata": {},
   "outputs": [],
   "source": []
  },
  {
   "cell_type": "code",
   "execution_count": null,
   "id": "24cf369f-4bf2-4551-8168-e28539c91a50",
   "metadata": {},
   "outputs": [],
   "source": []
  }
 ],
 "metadata": {
  "kernelspec": {
   "display_name": "Python 3 (ipykernel)",
   "language": "python",
   "name": "python3"
  },
  "language_info": {
   "codemirror_mode": {
    "name": "ipython",
    "version": 3
   },
   "file_extension": ".py",
   "mimetype": "text/x-python",
   "name": "python",
   "nbconvert_exporter": "python",
   "pygments_lexer": "ipython3",
   "version": "3.11.7"
  }
 },
 "nbformat": 4,
 "nbformat_minor": 5
}
